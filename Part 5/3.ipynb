{
 "cells": [
  {
   "cell_type": "markdown",
   "metadata": {},
   "source": [
    "# Question 3"
   ]
  },
  {
   "cell_type": "markdown",
   "metadata": {},
   "source": [
    "## Task 3"
   ]
  },
  {
   "cell_type": "markdown",
   "metadata": {},
   "source": [
    "### Part 1"
   ]
  },
  {
   "cell_type": "code",
   "execution_count": 1,
   "metadata": {},
   "outputs": [],
   "source": [
    "import numpy as np\n",
    "import matplotlib.pyplot as plt"
   ]
  },
  {
   "cell_type": "code",
   "execution_count": 2,
   "metadata": {},
   "outputs": [
    {
     "data": {
      "text/plain": [
       "(array([0, 1, 2, 3, 4, 5]), (50000, 1))"
      ]
     },
     "execution_count": 2,
     "metadata": {},
     "output_type": "execute_result"
    }
   ],
   "source": [
    "data = np.load('./data/rolls.npy')\n",
    "np.unique(data), data.shape"
   ]
  },
  {
   "cell_type": "code",
   "execution_count": 3,
   "metadata": {},
   "outputs": [],
   "source": [
    "from hmmlearn import hmm"
   ]
  },
  {
   "cell_type": "markdown",
   "metadata": {},
   "source": [
    "#### 1. Train an HMM model with a 50 % t..."
   ]
  },
  {
   "cell_type": "code",
   "execution_count": 4,
   "metadata": {},
   "outputs": [],
   "source": [
    "# Setting random seed\n",
    "np.random.seed(13)"
   ]
  },
  {
   "cell_type": "code",
   "execution_count": 5,
   "metadata": {},
   "outputs": [
    {
     "data": {
      "text/plain": [
       "((25000, 1), (25000, 1))"
      ]
     },
     "execution_count": 5,
     "metadata": {},
     "output_type": "execute_result"
    }
   ],
   "source": [
    "train_size = len(data) // 2\n",
    "train_data = data[:train_size]\n",
    "val_data = data[train_size:]\n",
    "\n",
    "train_data.shape, val_data.shape"
   ]
  },
  {
   "cell_type": "code",
   "execution_count": 19,
   "metadata": {},
   "outputs": [
    {
     "data": {
      "text/plain": [
       "'\\nAsked GPT for Experiment with different emission probabilities for the\\nloaded die and report the model with the best score. Use the validation\\nsplit to evaluate the best model.\\n\\nnext code block was returned\\nNOTE: the code returned was very wrong so I just ended up writing it myself\\n'"
      ]
     },
     "execution_count": 19,
     "metadata": {},
     "output_type": "execute_result"
    }
   ],
   "source": [
    "'''\n",
    "Asked GPT for Experiment with different emission probabilities for the\n",
    "loaded die and report the model with the best score. Use the validation\n",
    "split to evaluate the best model.\n",
    "\n",
    "next code block was returned\n",
    "NOTE: the code returned was very wrong so I just ended up writing it myself\n",
    "'''"
   ]
  },
  {
   "cell_type": "code",
   "execution_count": 20,
   "metadata": {},
   "outputs": [],
   "source": [
    "fair_probs = np.ones(6) * 1 / 6\n",
    "best_score = -np.inf\n",
    "best_model = None\n",
    "\n",
    "# Training and validation split\n",
    "train_sequence = train_data.squeeze()\n",
    "valid_sequence = val_data.squeeze()\n",
    "\n",
    "# Experiment with different emission probabilities for the loaded die\n",
    "for prob in range(15):\n",
    "    # Vary the loaded die probabilities\n",
    "    loaded_probs = np.random.dirichlet(np.ones(6), size=1)\n",
    "\n",
    "    # Create the emission matrix\n",
    "    emission_prob = np.vstack((fair_probs, loaded_probs))\n",
    "\n",
    "    # Initialize and train the HMM model\n",
    "    model = hmm.CategoricalHMM(n_components=2, random_state=13, init_params='', n_iter=100)\n",
    "    '''\n",
    "        NOTE: I'm also assuming that we have the initial transition matrix\n",
    "        as without it the probabilities for getting numbers 1 through 6 don;t come same even for fair die\n",
    "    '''\n",
    "\n",
    "\n",
    "    model.startprob_ = np.array([1.0, 0.0])  # Start with a fair die\n",
    "    model.transmat_ = np.array([[0.95, 0.05], [0.05, 0.95]])  # Transition probabilities between fair and loaded\n",
    "    model.emissionprob_ = emission_prob\n",
    "\n",
    "    # Fit the model on the training sequence\n",
    "    model.fit(train_sequence.reshape(-1, 1))\n",
    "\n",
    "    # Evaluate on validation set\n",
    "    score = model.score(valid_sequence.reshape(-1, 1))\n",
    "\n",
    "    # Update best model if score improves\n",
    "    if score > best_score:\n",
    "        best_score = score\n",
    "        best_model = model\n",
    "        best_emission = emission_prob"
   ]
  },
  {
   "cell_type": "code",
   "execution_count": 21,
   "metadata": {},
   "outputs": [
    {
     "name": "stdout",
     "output_type": "stream",
     "text": [
      "Best score: -43065.16493386163\n",
      "Best Transition Matrix:\n",
      "[[0.89130716 0.10869284]\n",
      " [0.1638242  0.8361758 ]]\n",
      "Best Emission Matrix:\n",
      "[[0.16246344 0.15517303 0.16518946 0.15968756 0.16249274 0.19499377]\n",
      " [0.1011166  0.1106037  0.09790937 0.10108885 0.10588719 0.48339431]]\n",
      "Best Start Probabilities:\n",
      "[1. 0.]\n"
     ]
    }
   ],
   "source": [
    "# Report the best model and emission probability\n",
    "print(f\"Best score: {best_score}\")\n",
    "\n",
    "best_transition_matrix = best_model.transmat_\n",
    "best_emission_matrix = best_model.emissionprob_\n",
    "best_start_probabilities = best_model.startprob_\n",
    "\n",
    "print(f\"Best Transition Matrix:\")\n",
    "print(best_transition_matrix)\n",
    "\n",
    "print(f\"Best Emission Matrix:\")\n",
    "print(best_emission_matrix)\n",
    "\n",
    "print(f\"Best Start Probabilities:\")\n",
    "print(best_start_probabilities)\n"
   ]
  },
  {
   "cell_type": "markdown",
   "metadata": {},
   "source": [
    "#### 2. Find the most likely sequence of switching between the fair and loaded die."
   ]
  },
  {
   "cell_type": "code",
   "execution_count": 22,
   "metadata": {},
   "outputs": [
    {
     "name": "stdout",
     "output_type": "stream",
     "text": [
      "Most Likely sequence of switching: [0 0 0 ... 1 1 1]\n"
     ]
    }
   ],
   "source": [
    "predicted_states = best_model.predict(data)\n",
    "print(f\"Most Likely sequence of switching: {predicted_states}\")"
   ]
  },
  {
   "cell_type": "code",
   "execution_count": 10,
   "metadata": {},
   "outputs": [
    {
     "name": "stdout",
     "output_type": "stream",
     "text": [
      "Score on all data: -92640.11269656743\n"
     ]
    }
   ],
   "source": [
    "data_score, data_seq = best_model.decode(data)\n",
    "print(f\"Score on all data: {data_score}\")"
   ]
  },
  {
   "cell_type": "markdown",
   "metadata": {},
   "source": [
    "#### 3. Plot the generated states"
   ]
  },
  {
   "cell_type": "code",
   "execution_count": 11,
   "metadata": {},
   "outputs": [
    {
     "data": {
      "image/png": "[encoded data removed]",
      "text/plain": [
       "<Figure size 1200x400 with 1 Axes>"
      ]
     },
     "metadata": {},
     "output_type": "display_data"
    }
   ],
   "source": [
    "plt.figure(figsize=(12, 4))\n",
    "plt.plot(data_seq[:1000], marker='o', linestyle=' ', markersize=5)\n",
    "plt.title('States (Fair = 0, Loaded = 1)')\n",
    "plt.xlabel('Rolls')\n",
    "plt.ylabel('State')\n",
    "plt.show()"
   ]
  },
  {
   "cell_type": "markdown",
   "metadata": {},
   "source": [
    "#### 4. What problem in Hidden Markov Models does this task correspond to?"
   ]
  },
  {
   "cell_type": "markdown",
   "metadata": {},
   "source": [
    "- This corresponds to the decoding problem in HMMs\n",
    "- It deals with the most probabable sequence of hidden states given by the HMM parameters and observation sequence\n",
    "- We use the model.predict here to predict the sequence\n",
    "- We set an initial estimate of the model parameters and have the observation sequence which is used to find the most likely sequence. Thus, its the decoding problem as we try to find the most likely sequence by switching between fair and loaded die."
   ]
  },
  {
   "cell_type": "markdown",
   "metadata": {},
   "source": [
    "### Part 2"
   ]
  },
  {
   "cell_type": "markdown",
   "metadata": {},
   "source": [
    "#### 1. How often do you think the casino is switching out the fair die for the loaded one and vice versa?"
   ]
  },
  {
   "cell_type": "code",
   "execution_count": 13,
   "metadata": {},
   "outputs": [
    {
     "name": "stdout",
     "output_type": "stream",
     "text": [
      "Probability of switching from fair to loaded die: 0.10785866527902654\n",
      "Probability of switching from loaded to fair die: 0.17029668358473274\n"
     ]
    }
   ],
   "source": [
    "transition_matrix = best_model.transmat_\n",
    "fair_to_loaded_prob = transition_matrix[0, 1]\n",
    "loaded_to_fair_prob = transition_matrix[1, 0]\n",
    "\n",
    "print(\"Probability of switching from fair to loaded die:\", fair_to_loaded_prob)\n",
    "print(\"Probability of switching from loaded to fair die:\", loaded_to_fair_prob)"
   ]
  },
  {
   "cell_type": "markdown",
   "metadata": {},
   "source": [
    "The above code provides the probabilities of transitioning from a fair die to a loaded die and from a loaded die to a fair die, based on the trained model. These probabilities indicate how often the casino might be switching the dice during the observed rolls."
   ]
  },
  {
   "cell_type": "code",
   "execution_count": 14,
   "metadata": {},
   "outputs": [
    {
     "name": "stdout",
     "output_type": "stream",
     "text": [
      "Number of times switching from fair to loaded die: 265\n",
      "Number of times switching from loaded to fair die: 264\n"
     ]
    }
   ],
   "source": [
    "states = best_model.predict(valid_sequence.reshape(-1, 1))\n",
    "\n",
    "fair_to_loaded_count = np.sum((states[:-1] == 0) & (states[1:] == 1))\n",
    "loaded_to_fair_count = np.sum((states[:-1] == 1) & (states[1:] == 0))\n",
    "\n",
    "print(\"Number of times switching from fair to loaded die:\", fair_to_loaded_count)\n",
    "print(\"Number of times switching from loaded to fair die:\", loaded_to_fair_count)"
   ]
  },
  {
   "cell_type": "markdown",
   "metadata": {},
   "source": [
    "The numbers agree with the probabilities"
   ]
  },
  {
   "cell_type": "markdown",
   "metadata": {},
   "source": [
    "#### 2. What problem in Hidden Markov Models does this task correspond to?"
   ]
  },
  {
   "cell_type": "markdown",
   "metadata": {},
   "source": [
    "- this corresponds to the learning problem of HMMs\n",
    "- it deals with the estimation of the HMM paramaters such that they maximize the likelihood of the observed data given the observation sequence\n",
    "- Here, we estimate the transition matrix that best describes the data by modelling the switches between the die\n",
    "- this problem is related to estimating the sequence of hidden states based on the observed sequence of emissions. By examining the transitions between states (fair to loaded and vice versa) using the transition matrix, we aim to estimate the underlying process (switching between fair and loaded dice) that generates the observed data (rolls of the dice)."
   ]
  },
  {
   "cell_type": "markdown",
   "metadata": {},
   "source": [
    "### Part 3"
   ]
  },
  {
   "cell_type": "markdown",
   "metadata": {},
   "source": [
    "#### 1. How do you think the loaded die is biased"
   ]
  },
  {
   "cell_type": "code",
   "execution_count": 15,
   "metadata": {},
   "outputs": [
    {
     "name": "stdout",
     "output_type": "stream",
     "text": [
      "Emission probabilities for the loaded die:\n",
      "[0.22948416 0.01078233 0.1463122  0.09748028 0.08951815 0.42642288]\n"
     ]
    }
   ],
   "source": [
    "loaded_die_emission_probs = best_emission[1] \n",
    "print(\"Emission probabilities for the loaded die:\")\n",
    "print(loaded_die_emission_probs)"
   ]
  },
  {
   "cell_type": "markdown",
   "metadata": {},
   "source": [
    "The bias in the loaded die can be inferred from the emission probabilities estimated by the best_model. These emission probabilities represent the likelihood of observing each outcome (1 through 6) given the hidden states (fair or loaded die).\n",
    "\n",
    "The aforementioned emission probabilities for the loaded die obtained from the best_model shows that the loaded die is biased as the probabilities of getting different faces of the die are very very different - 6th face is being favoures"
   ]
  },
  {
   "cell_type": "markdown",
   "metadata": {},
   "source": [
    "#### 2. What problem in Hidden Markov Models does this task correspond t"
   ]
  },
  {
   "cell_type": "markdown",
   "metadata": {},
   "source": [
    "- this corresponds to the learning problem of HMMs\n",
    "- it deals with the estimation of the HMM paramaters such that they maximize the likelihood of the observed data given the observation sequence\n",
    "- The problem of understanding the bias in the loaded die based on the estimated emission probabilities corresponds to the \"Emission Estimation problem\" (Learning) in Hidden Markov Models (HMMs).\n",
    "- The end goal is to estimate the emission probabilities associated with each outcome (1 through 6) given the hidden states (fair or loaded die). By examining the emission probabilities for the loaded die obtained from the model, we aim to understand how the loaded die is biased toward specific outcomes compared to a fair die. This problem involves inferring the characteristics or biases of the hidden states based on observed emissions, providing insights into the nature of the loaded die."
   ]
  },
  {
   "cell_type": "markdown",
   "metadata": {},
   "source": [
    "---"
   ]
  },
  {
   "cell_type": "markdown",
   "metadata": {},
   "source": [
    "## Task 4"
   ]
  },
  {
   "cell_type": "code",
   "execution_count": 9,
   "metadata": {},
   "outputs": [],
   "source": [
    "runs = np.load('./data/runs.npy')"
   ]
  },
  {
   "cell_type": "code",
   "execution_count": 10,
   "metadata": {},
   "outputs": [
    {
     "data": {
      "text/plain": [
       "'\\n    Fed GPT the entire prompt for Task 4\\n'"
      ]
     },
     "execution_count": 10,
     "metadata": {},
     "output_type": "execute_result"
    }
   ],
   "source": [
    "'''\n",
    "    Fed GPT the entire prompt for Task 4\n",
    "'''"
   ]
  },
  {
   "cell_type": "code",
   "execution_count": 11,
   "metadata": {},
   "outputs": [
    {
     "name": "stdout",
     "output_type": "stream",
     "text": [
      "Optimal Transmission Matrix:\n",
      "[[0.69434494 0.30565506]\n",
      " [0.27850337 0.72149663]]\n",
      "\n",
      "Optimal Emission Probabilities:\n",
      "[[0.15738847 0.30348754 0.25333765 0.04449102 0.14154762 0.09974771]\n",
      " [0.09605823 0.10645777 0.10743457 0.05145252 0.35603031 0.2825666 ]]\n",
      "\n",
      "Optimal Start Probabilities:\n",
      "[1.00000000e+00 7.00487289e-13]\n"
     ]
    }
   ],
   "source": [
    "import numpy as np\n",
    "from hmmlearn import hmm\n",
    "\n",
    "runs_flat = runs.flatten()\n",
    "runs_list = list(runs_flat)\n",
    "\n",
    "emission_map = {0: 0, 1: 1, 2: 2, 3: 3, 4: 4, 6: 5}\n",
    "reverse_emission_map = {v: k for k, v in emission_map.items()}\n",
    "emission_states = list(emission_map.values())\n",
    "\n",
    "X = np.array([emission_map[run] for run in runs_list]).reshape(-1, 1)\n",
    "\n",
    "model = hmm.CategoricalHMM(n_components=2, n_iter=100, tol=1e-2, init_params='s', random_state=13)\n",
    "\n",
    "uncertain_transition_matrix = np.array([[0.7, 0.3], [0.3, 0.7]])\n",
    "\n",
    "model.transmat_ = uncertain_transition_matrix\n",
    "\n",
    "'''\n",
    "To ensure\n",
    "As a cricket enthusiast, you know Virat is likely to focus on singles and doubles\n",
    "to anchor the innings. In contrast, Rohit is more prone to taking risky shots to\n",
    "boost the run rate\n",
    "'''\n",
    "virat_em = np.array([0.1, 0.2, 0.2, 0.1, 0.1, 0.1])\n",
    "virat_em /= np.sum(virat_em)\n",
    "rohit_em = np.array([0.1, 0.1, 0.1, 0.1, 0.2, 0.2])\n",
    "rohit_em /= np.sum(rohit_em)\n",
    "emission_prob = np.vstack((virat_em, rohit_em))\n",
    "model.emissionprob_ = emission_prob\n",
    "\n",
    "model.fit(X)\n",
    "\n",
    "optimal_transition_mat = model.transmat_\n",
    "optimal_emission_prob = model.emissionprob_\n",
    "optimal_start_prob = model.startprob_\n",
    "\n",
    "predicted_states = model.predict(X)\n",
    "\n",
    "print(\"Optimal Transmission Matrix:\")\n",
    "print(optimal_transition_mat)\n",
    "print(\"\\nOptimal Emission Probabilities:\")\n",
    "print(optimal_emission_prob)\n",
    "print(\"\\nOptimal Start Probabilities:\")\n",
    "print(optimal_start_prob)\n"
   ]
  },
  {
   "cell_type": "markdown",
   "metadata": {},
   "source": [
    "According to our emmission matrix stack, Virat is 0th index."
   ]
  },
  {
   "cell_type": "code",
   "execution_count": 12,
   "metadata": {},
   "outputs": [
    {
     "name": "stdout",
     "output_type": "stream",
     "text": [
      "\n",
      "Predicted player for the first ball: Virat\n",
      "Predicted player for the last ball: Rohit\n"
     ]
    }
   ],
   "source": [
    "first_ball_player = \"Virat\" if predicted_states[0] == 0 else \"Rohit\"\n",
    "last_ball_player = \"Virat\" if predicted_states[-1] == 0 else \"Rohit\"\n",
    "\n",
    "print(\"\\nPredicted player for the first ball:\", first_ball_player)\n",
    "print(\"Predicted player for the last ball:\", last_ball_player)"
   ]
  },
  {
   "cell_type": "code",
   "execution_count": null,
   "metadata": {},
   "outputs": [],
   "source": []
  }
 ],
 "metadata": {
  "kernelspec": {
   "display_name": "smai",
   "language": "python",
   "name": "python3"
  },
  "language_info": {
   "codemirror_mode": {
    "name": "ipython",
    "version": 3
   },
   "file_extension": ".py",
   "mimetype": "text/x-python",
   "name": "python",
   "nbconvert_exporter": "python",
   "pygments_lexer": "ipython3",
   "version": "3.11.4"
  },
  "orig_nbformat": 4
 },
 "nbformat": 4,
 "nbformat_minor": 2
}
